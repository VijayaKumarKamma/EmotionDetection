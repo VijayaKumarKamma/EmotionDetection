{
 "cells": [
  {
   "cell_type": "code",
   "execution_count": 1,
   "metadata": {},
   "outputs": [
    {
     "name": "stderr",
     "output_type": "stream",
     "text": [
      "Using TensorFlow backend.\n"
     ]
    }
   ],
   "source": [
    "import cv2\n",
    "import math\n",
    "import matplotlib.pyplot as plt\n",
    "import pandas as pd\n",
    "%matplotlib inline\n",
    "from keras.preprocessing import image\n",
    "import numpy as np\n",
    "#from google.colab.patches import cv2_imshow\n",
    "import os\n",
    "import sys"
   ]
  },
  {
   "cell_type": "code",
   "execution_count": 2,
   "metadata": {},
   "outputs": [],
   "source": [
    "from PIL import Image"
   ]
  },
  {
   "cell_type": "code",
   "execution_count": 8,
   "metadata": {},
   "outputs": [
    {
     "ename": "FileExistsError",
     "evalue": "[WinError 183] Cannot create a file when that file already exists: 'Emotional_Imeges'",
     "output_type": "error",
     "traceback": [
      "\u001b[1;31m---------------------------------------------------------------------------\u001b[0m",
      "\u001b[1;31mFileExistsError\u001b[0m                           Traceback (most recent call last)",
      "\u001b[1;32m<ipython-input-8-95d215488939>\u001b[0m in \u001b[0;36m<module>\u001b[1;34m()\u001b[0m\n\u001b[1;32m----> 1\u001b[1;33m \u001b[0mos\u001b[0m\u001b[1;33m.\u001b[0m\u001b[0mmkdir\u001b[0m\u001b[1;33m(\u001b[0m\u001b[1;34m\"Emotional_Imeges\"\u001b[0m\u001b[1;33m)\u001b[0m\u001b[1;33m\u001b[0m\u001b[0m\n\u001b[0m",
      "\u001b[1;31mFileExistsError\u001b[0m: [WinError 183] Cannot create a file when that file already exists: 'Emotional_Imeges'"
     ]
    }
   ],
   "source": [
    "os.mkdir(\"Emotional_Imeges\")"
   ]
  },
  {
   "cell_type": "code",
   "execution_count": 9,
   "metadata": {},
   "outputs": [],
   "source": [
    "os.mkdir('Emotional_Imeges/Training')"
   ]
  },
  {
   "cell_type": "code",
   "execution_count": 2,
   "metadata": {},
   "outputs": [],
   "source": [
    "os.mkdir('Emotional_Imeges/Testing')"
   ]
  },
  {
   "cell_type": "code",
   "execution_count": 3,
   "metadata": {},
   "outputs": [],
   "source": [
    "os.mkdir('Emotional_Imeges/Training/Smile')"
   ]
  },
  {
   "cell_type": "code",
   "execution_count": 4,
   "metadata": {},
   "outputs": [],
   "source": [
    "os.mkdir('Emotional_Imeges/Training/Anger')"
   ]
  },
  {
   "cell_type": "code",
   "execution_count": 5,
   "metadata": {},
   "outputs": [],
   "source": [
    "os.mkdir('Emotional_Imeges/Testing/Anger')"
   ]
  },
  {
   "cell_type": "code",
   "execution_count": 6,
   "metadata": {},
   "outputs": [],
   "source": [
    "os.mkdir('Emotional_Imeges/Testing/Smile')"
   ]
  },
  {
   "cell_type": "code",
   "execution_count": 3,
   "metadata": {},
   "outputs": [
    {
     "name": "stdout",
     "output_type": "stream",
     "text": [
      "30.0\n",
      "Done!\n"
     ]
    }
   ],
   "source": [
    "#videoFile = \"Smile.mp4\"\n",
    "count = 0\n",
    "cap = cv2.VideoCapture(0)\n",
    "frameRate = cap.get(5) #frame rate\n",
    "print(frameRate)\n",
    "#while(cap.isOpened()):\n",
    "while True:\n",
    "    \n",
    "    frameId = cap.get(1) #current frame number--this is for frame rate\n",
    "    ret, frame = cap.read()\n",
    "    if (ret != True):\n",
    "        break\n",
    "    if (frameId % (math.floor(frameRate/5)) == 0):\n",
    "        filename =\"Emotional_Imeges/Training/Smile/frame%d.jpg\" % count;count+=1\n",
    "        cv2.imwrite(filename, frame)\n",
    "        cv2.imshow('frame',frame)\n",
    "    k= cv2.waitKey(1) & 0xff\n",
    "    if k==27:\n",
    "        break\n",
    "cap.release()\n",
    "print (\"Done!\")"
   ]
  },
  {
   "cell_type": "code",
   "execution_count": 3,
   "metadata": {},
   "outputs": [
    {
     "name": "stdout",
     "output_type": "stream",
     "text": [
      "30.0\n",
      "Done!\n"
     ]
    }
   ],
   "source": [
    "count = 0\n",
    "#videoFile = \"Angry.mp4\"\n",
    "cap = cv2.VideoCapture(0)\n",
    "frameRate = cap.get(5) #frame rate\n",
    "print(frameRate)\n",
    "#while(cap.isOpened()):\n",
    "while True:\n",
    "    \n",
    "    frameId = cap.get(1) #current frame number--this is for frame rate\n",
    "    ret, frame = cap.read()\n",
    "    #cv2_imshow(frame)\n",
    "    if (ret != True):\n",
    "        break\n",
    "    if (frameId % (math.floor(frameRate/5)) == 0):\n",
    "        filename =\"Emotional_Imeges/Training/Anger/frame%d.jpg\" % count;count+=1\n",
    "        cv2.imwrite(filename, frame)    \n",
    "        cv2.imshow('frame',frame)\n",
    "    k= cv2.waitKey(1) & 0xff\n",
    "    if k==27:\n",
    "        break\n",
    "cap.release()\n",
    "print (\"Done!\")"
   ]
  },
  {
   "cell_type": "code",
   "execution_count": 2,
   "metadata": {},
   "outputs": [
    {
     "name": "stdout",
     "output_type": "stream",
     "text": [
      "30.0\n",
      "Done!\n"
     ]
    }
   ],
   "source": [
    "count = 0\n",
    "#videoFile = \"Angry.mp4\"\n",
    "cap = cv2.VideoCapture(0)\n",
    "frameRate = cap.get(5) #frame rate\n",
    "print(frameRate)\n",
    "#while(cap.isOpened()):\n",
    "while True:\n",
    "    \n",
    "    frameId = cap.get(1) #current frame number--this is for frame rate\n",
    "    ret, frame = cap.read()\n",
    "    #cv2_imshow(frame)\n",
    "    if (ret != True):\n",
    "        break\n",
    "    if (frameId % (math.floor(frameRate/5)) == 0):\n",
    "        filename =\"Emotional_Imeges/Testing/Smile/frame%d.jpg\" % count;count+=1\n",
    "        cv2.imwrite(filename, frame)    \n",
    "        cv2.imshow('frame',frame)\n",
    "    k= cv2.waitKey(1) & 0xff\n",
    "    if k==27:\n",
    "        break\n",
    "cap.release()\n",
    "print (\"Done!\")"
   ]
  },
  {
   "cell_type": "code",
   "execution_count": 2,
   "metadata": {},
   "outputs": [
    {
     "name": "stdout",
     "output_type": "stream",
     "text": [
      "30.0\n",
      "Done!\n"
     ]
    }
   ],
   "source": [
    "count = 0\n",
    "#videoFile = \"Angry.mp4\"\n",
    "cap = cv2.VideoCapture(0)\n",
    "frameRate = cap.get(5) #frame rate\n",
    "print(frameRate)\n",
    "#while(cap.isOpened()):\n",
    "while True:\n",
    "    \n",
    "    frameId = cap.get(1) #current frame number--this is for frame rate\n",
    "    ret, frame = cap.read()\n",
    "    #cv2_imshow(frame)\n",
    "    if (ret != True):\n",
    "        break\n",
    "    if (frameId % (math.floor(frameRate/5)) == 0):\n",
    "        filename =\"Emotional_Imeges/Testing/Anger/frame%d.jpg\" % count;count+=1\n",
    "        cv2.imwrite(filename, frame)    \n",
    "        cv2.imshow('frame',frame)\n",
    "    k= cv2.waitKey(1) & 0xff\n",
    "    if k==27:\n",
    "        break\n",
    "cap.release()\n",
    "print (\"Done!\")"
   ]
  },
  {
   "cell_type": "code",
   "execution_count": 3,
   "metadata": {},
   "outputs": [],
   "source": [
    "# Importing the Keras libraries and packages\n",
    "from keras.models import Sequential\n",
    "from keras.layers import Convolution2D\n",
    "from keras.layers import MaxPooling2D\n",
    "from keras.layers import Flatten\n",
    "from keras.layers import Dense"
   ]
  },
  {
   "cell_type": "code",
   "execution_count": 4,
   "metadata": {},
   "outputs": [],
   "source": [
    "classifier = Sequential()"
   ]
  },
  {
   "cell_type": "code",
   "execution_count": 5,
   "metadata": {},
   "outputs": [
    {
     "name": "stdout",
     "output_type": "stream",
     "text": [
      "WARNING:tensorflow:From C:\\Users\\kamma\\Anaconda3\\envs\\vdpnLeP35\\lib\\site-packages\\tensorflow\\python\\framework\\op_def_library.py:263: colocate_with (from tensorflow.python.framework.ops) is deprecated and will be removed in a future version.\n",
      "Instructions for updating:\n",
      "Colocations handled automatically by placer.\n"
     ]
    },
    {
     "name": "stderr",
     "output_type": "stream",
     "text": [
      "C:\\Users\\kamma\\Anaconda3\\envs\\vdpnLeP35\\lib\\site-packages\\ipykernel_launcher.py:1: UserWarning: Update your `Conv2D` call to the Keras 2 API: `Conv2D(32, (3, 3), input_shape=(64, 64, 3..., activation=\"relu\")`\n",
      "  \"\"\"Entry point for launching an IPython kernel.\n"
     ]
    }
   ],
   "source": [
    "classifier.add(Convolution2D(32, 3, 3, input_shape = (64, 64, 3), activation = 'relu'))"
   ]
  },
  {
   "cell_type": "code",
   "execution_count": 6,
   "metadata": {},
   "outputs": [],
   "source": [
    "classifier.add(MaxPooling2D(pool_size = (2, 2)))"
   ]
  },
  {
   "cell_type": "code",
   "execution_count": 7,
   "metadata": {},
   "outputs": [
    {
     "name": "stderr",
     "output_type": "stream",
     "text": [
      "C:\\Users\\kamma\\Anaconda3\\envs\\vdpnLeP35\\lib\\site-packages\\ipykernel_launcher.py:1: UserWarning: Update your `Conv2D` call to the Keras 2 API: `Conv2D(32, (3, 3), activation=\"relu\")`\n",
      "  \"\"\"Entry point for launching an IPython kernel.\n"
     ]
    }
   ],
   "source": [
    "classifier.add(Convolution2D(32, 3, 3, activation = 'relu'))\n",
    "classifier.add(MaxPooling2D(pool_size = (2, 2)))"
   ]
  },
  {
   "cell_type": "code",
   "execution_count": 8,
   "metadata": {},
   "outputs": [],
   "source": [
    "classifier.add(Flatten())"
   ]
  },
  {
   "cell_type": "code",
   "execution_count": 9,
   "metadata": {},
   "outputs": [
    {
     "name": "stderr",
     "output_type": "stream",
     "text": [
      "C:\\Users\\kamma\\Anaconda3\\envs\\vdpnLeP35\\lib\\site-packages\\ipykernel_launcher.py:1: UserWarning: Update your `Dense` call to the Keras 2 API: `Dense(activation=\"relu\", units=128)`\n",
      "  \"\"\"Entry point for launching an IPython kernel.\n",
      "C:\\Users\\kamma\\Anaconda3\\envs\\vdpnLeP35\\lib\\site-packages\\ipykernel_launcher.py:2: UserWarning: Update your `Dense` call to the Keras 2 API: `Dense(activation=\"sigmoid\", units=1)`\n",
      "  \n"
     ]
    }
   ],
   "source": [
    "classifier.add(Dense(output_dim = 128, activation = 'relu'))\n",
    "classifier.add(Dense(output_dim = 1, activation = 'sigmoid'))"
   ]
  },
  {
   "cell_type": "code",
   "execution_count": 10,
   "metadata": {},
   "outputs": [],
   "source": [
    "classifier.compile(optimizer = 'adam', loss = 'binary_crossentropy', metrics = ['accuracy'])"
   ]
  },
  {
   "cell_type": "code",
   "execution_count": 11,
   "metadata": {},
   "outputs": [],
   "source": [
    "from keras.preprocessing.image import ImageDataGenerator\n",
    "\n",
    "train_datagen = ImageDataGenerator(rescale = 1./255,\n",
    "                                   shear_range = 0.2,\n",
    "                                   zoom_range = 0.2,\n",
    "                                   horizontal_flip = True)\n",
    "\n",
    "test_datagen = ImageDataGenerator(rescale = 1./255)"
   ]
  },
  {
   "cell_type": "code",
   "execution_count": 12,
   "metadata": {},
   "outputs": [
    {
     "name": "stdout",
     "output_type": "stream",
     "text": [
      "Found 8575 images belonging to 2 classes.\n",
      "Found 4332 images belonging to 2 classes.\n"
     ]
    }
   ],
   "source": [
    "training_set = train_datagen.flow_from_directory('Emotional_Imeges/Training',\n",
    "                                                 target_size = (64, 64),\n",
    "                                                 batch_size = 32,\n",
    "                                                 class_mode = 'binary')\n",
    "\n",
    "test_set = test_datagen.flow_from_directory('Emotional_Imeges/Testing',\n",
    "                                            target_size = (64, 64),\n",
    "                                            batch_size = 32,\n",
    "                                            class_mode = 'binary')"
   ]
  },
  {
   "cell_type": "code",
   "execution_count": 13,
   "metadata": {},
   "outputs": [],
   "source": [
    "import PIL"
   ]
  },
  {
   "cell_type": "code",
   "execution_count": 14,
   "metadata": {},
   "outputs": [
    {
     "name": "stdout",
     "output_type": "stream",
     "text": [
      "WARNING:tensorflow:From C:\\Users\\kamma\\Anaconda3\\envs\\vdpnLeP35\\lib\\site-packages\\tensorflow\\python\\ops\\math_ops.py:3066: to_int32 (from tensorflow.python.ops.math_ops) is deprecated and will be removed in a future version.\n",
      "Instructions for updating:\n",
      "Use tf.cast instead.\n"
     ]
    },
    {
     "name": "stderr",
     "output_type": "stream",
     "text": [
      "C:\\Users\\kamma\\Anaconda3\\envs\\vdpnLeP35\\lib\\site-packages\\ipykernel_launcher.py:5: UserWarning: The semantics of the Keras 2 argument `steps_per_epoch` is not the same as the Keras 1 argument `samples_per_epoch`. `steps_per_epoch` is the number of batches to draw from the generator at each epoch. Basically steps_per_epoch = samples_per_epoch/batch_size. Similarly `nb_val_samples`->`validation_steps` and `val_samples`->`steps` arguments have changed. Update your method calls accordingly.\n",
      "  \"\"\"\n",
      "C:\\Users\\kamma\\Anaconda3\\envs\\vdpnLeP35\\lib\\site-packages\\ipykernel_launcher.py:5: UserWarning: Update your `fit_generator` call to the Keras 2 API: `fit_generator(<keras_pre..., epochs=15, validation_steps=4332, validation_data=<keras_pre..., steps_per_epoch=267)`\n",
      "  \"\"\"\n"
     ]
    },
    {
     "name": "stdout",
     "output_type": "stream",
     "text": [
      "Epoch 1/15\n",
      "267/267 [==============================] - 569s 2s/step - loss: 0.1570 - acc: 0.9359 - val_loss: 1.5173 - val_acc: 0.5863\n",
      "Epoch 2/15\n",
      "267/267 [==============================] - 560s 2s/step - loss: 0.0418 - acc: 0.9860 - val_loss: 1.4655 - val_acc: 0.6583\n",
      "Epoch 3/15\n",
      "267/267 [==============================] - 594s 2s/step - loss: 0.0195 - acc: 0.9931 - val_loss: 1.9325 - val_acc: 0.6826\n",
      "Epoch 4/15\n",
      "267/267 [==============================] - 572s 2s/step - loss: 0.0099 - acc: 0.9968 - val_loss: 1.4529 - val_acc: 0.7180\n",
      "Epoch 5/15\n",
      "267/267 [==============================] - 580s 2s/step - loss: 0.0118 - acc: 0.9960 - val_loss: 1.6380 - val_acc: 0.6903\n",
      "Epoch 6/15\n",
      "267/267 [==============================] - 594s 2s/step - loss: 0.0038 - acc: 0.9992 - val_loss: 2.2782 - val_acc: 0.6839\n",
      "Epoch 7/15\n",
      "267/267 [==============================] - 626s 2s/step - loss: 0.0026 - acc: 0.9993 - val_loss: 1.9385 - val_acc: 0.7185\n",
      "Epoch 8/15\n",
      "267/267 [==============================] - 602s 2s/step - loss: 0.0112 - acc: 0.9961 - val_loss: 2.2754 - val_acc: 0.6873\n",
      "Epoch 9/15\n",
      "267/267 [==============================] - 620s 2s/step - loss: 0.0019 - acc: 0.9996 - val_loss: 2.0674 - val_acc: 0.7274\n",
      "Epoch 10/15\n",
      "267/267 [==============================] - 697s 3s/step - loss: 5.1337e-04 - acc: 1.0000 - val_loss: 2.7752 - val_acc: 0.7135\n",
      "Epoch 11/15\n",
      "267/267 [==============================] - 641s 2s/step - loss: 0.0060 - acc: 0.9975 - val_loss: 1.6604 - val_acc: 0.7391\n",
      "Epoch 12/15\n",
      "267/267 [==============================] - 631s 2s/step - loss: 0.0017 - acc: 0.9993 - val_loss: 2.7373 - val_acc: 0.6755\n",
      "Epoch 13/15\n",
      "267/267 [==============================] - 640s 2s/step - loss: 2.0104e-04 - acc: 1.0000 - val_loss: 2.5978 - val_acc: 0.6962\n",
      "Epoch 14/15\n",
      "267/267 [==============================] - 700s 3s/step - loss: 0.0068 - acc: 0.9975 - val_loss: 1.5905 - val_acc: 0.8055\n",
      "Epoch 15/15\n",
      "267/267 [==============================] - 650s 2s/step - loss: 0.0017 - acc: 0.9994 - val_loss: 2.3526 - val_acc: 0.7366\n"
     ]
    },
    {
     "data": {
      "text/plain": [
       "<keras.callbacks.History at 0x1e60fe19ba8>"
      ]
     },
     "execution_count": 14,
     "metadata": {},
     "output_type": "execute_result"
    }
   ],
   "source": [
    "classifier.fit_generator(training_set,\n",
    "                         samples_per_epoch = 8575,\n",
    "                         epochs = 15,\n",
    "                         validation_data = test_set,\n",
    "                         nb_val_samples = 4332)"
   ]
  },
  {
   "cell_type": "code",
   "execution_count": null,
   "metadata": {},
   "outputs": [],
   "source": [
    "# Part 3 - Making new predictions\n",
    "import numpy as np\n",
    "from keras.preprocessing import image\n",
    "test_image = image.load_img('photo.jpg', target_size = (64, 64))\n",
    "test_image = image.img_to_array(test_image)\n",
    "test_image = np.expand_dims(test_image, axis = 0)\n",
    "result = classifier.predict(test_image)\n",
    "training_set.class_indices\n",
    "if result[0][0] == 1:\n",
    "    prediction = 'Smile'\n",
    "else:\n",
    "    prediction = 'Anger'\n",
    "print(prediction)"
   ]
  },
  {
   "cell_type": "code",
   "execution_count": 15,
   "metadata": {},
   "outputs": [
    {
     "name": "stdout",
     "output_type": "stream",
     "text": [
      "Saved model to disk\n"
     ]
    }
   ],
   "source": [
    "#Saving traind model to json and h5files.\n",
    "# serialize model to JSON\n",
    "#Save and load the model \n",
    "from keras.models import model_from_json\n",
    "model_json = classifier.to_json()\n",
    "with open(\"EmotionBinary.json\", \"w\") as json_file:\n",
    "    json_file.write(model_json)\n",
    "# serialize weights to HDF5\n",
    "classifier.save_weights(\"EmotionBinary.h5\")\n",
    "print(\"Saved model to disk\")"
   ]
  },
  {
   "cell_type": "code",
   "execution_count": null,
   "metadata": {},
   "outputs": [],
   "source": [
    "#Later use\n",
    "# load json and create model\n",
    "json_file = open('EmotionBinary.json', 'r')\n",
    "loaded_model_json = json_file.read()\n",
    "json_file.close()\n",
    "loaded_model = model_from_json(loaded_model_json)\n",
    "# load weights into new model\n",
    "loaded_model.load_weights(\"EmotionBinary.h5\")\n",
    "print(\"Loaded model from disk\")"
   ]
  },
  {
   "cell_type": "code",
   "execution_count": null,
   "metadata": {},
   "outputs": [],
   "source": [
    "# Compiling and Making New Predictions\n",
    "\n",
    "# compile loaded model on test data\n",
    "loaded_model.compile(loss='binary_crossentropy', optimizer='adam', metrics=['accuracy'])\n"
   ]
  },
  {
   "cell_type": "code",
   "execution_count": null,
   "metadata": {},
   "outputs": [],
   "source": [
    "# Making new predictions\n",
    "\n",
    "import numpy as np\n",
    "from keras.preprocessing import image\n",
    "test_image = image.load_img('DataSet/TestSet/TestHappy/TestHappy22.jpg', target_size = (64, 64))\n",
    "test_image = image.img_to_array(test_image)\n",
    "test_image = np.expand_dims(test_image, axis = 0)\n",
    "result = loaded_model.predict(test_image)\n",
    "training_set.class_indices\n",
    "if result[0][0] == 1:\n",
    "    prediction = 'Anger'\n",
    "elif result[0][1] == 1:\n",
    "    prediction = 'Happy'\n",
    "elif result[0][2] == 1:\n",
    "    prediction = 'Neutral'\n",
    "print(prediction)"
   ]
  }
 ],
 "metadata": {
  "kernelspec": {
   "display_name": "Python 3",
   "language": "python",
   "name": "python3"
  },
  "language_info": {
   "codemirror_mode": {
    "name": "ipython",
    "version": 3
   },
   "file_extension": ".py",
   "mimetype": "text/x-python",
   "name": "python",
   "nbconvert_exporter": "python",
   "pygments_lexer": "ipython3",
   "version": "3.5.6"
  }
 },
 "nbformat": 4,
 "nbformat_minor": 2
}
